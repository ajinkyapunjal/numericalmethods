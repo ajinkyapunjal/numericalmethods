{
 "cells": [
  {
   "cell_type": "code",
   "execution_count": 4,
   "metadata": {},
   "outputs": [
    {
     "name": "stdout",
     "output_type": "stream",
     "text": [
      "1 \t 0 \t -1 \t 1\n",
      "2 \t -1 \t 1 \t 2\n",
      "3 \t 1 \t -1 \t 2\n",
      "4 \t -1 \t 1 \t 2\n",
      "5 \t 1 \t -1 \t 2\n",
      "6 \t -1 \t 1 \t 2\n",
      "7 \t 1 \t -1 \t 2\n",
      "8 \t -1 \t 1 \t 2\n",
      "9 \t 1 \t -1 \t 2\n",
      "10 \t -1 \t 1 \t 2\n",
      "Exceeded maximum iterations. No solution found.\n"
     ]
    }
   ],
   "source": [
    "'''\n",
    "x0-Inital guess\n",
    "f-function\n",
    "df-derivative of function \n",
    "max_itr- maximun no. of iterations\n",
    "accuracy-upto to how many decimal places\n",
    "'''\n",
    "\n",
    "def sar(x0,f,df,max_itr,accuracy):\n",
    "    #coversion and calculating epsilon\n",
    "    epsilon = 10**(-accuracy) \n",
    "    \n",
    "    #divergence check\n",
    "    if df(x0)>1:          \n",
    "        print(\"function is diverging for current initial value \", df(x0))\n",
    "    \n",
    "    #Function is convergent\n",
    "    else:  \n",
    "        for n in range (1,max_itr+1): \n",
    "            \n",
    "            #SAR condition\n",
    "            x = round((f(x0)),accuracy+1)     \n",
    "            error = round((abs(x-x0)),accuracy+1)\n",
    "            \n",
    "            #error is less than required limit\n",
    "            if (abs(x-x0))<epsilon:\n",
    "                print('Found solution after',n,'iterations.')\n",
    "                print(x,'±',error)\n",
    "                \n",
    "                #returns root value and error\n",
    "                return x,error\n",
    "            \n",
    "            #print style for college assignments\n",
    "            print(n,'\\t',x0,'\\t',x,'\\t',error)\n",
    "           \n",
    "            #important end step in the loop\n",
    "            x0 = x\n",
    "            \n",
    "        print('Exceeded maximum iterations. No solution found.')\n",
    "        return None\n",
    "\n",
    "\n",
    "\n",
    "import math\n",
    "p = lambda x: x**2-x-1\n",
    "dp = lambda x: 2*x-1\n",
    "approx = sar(0,p,dp,10,2)\n",
    "\n",
    "\n",
    "\n",
    " "
   ]
  },
  {
   "cell_type": "code",
   "execution_count": null,
   "metadata": {},
   "outputs": [],
   "source": []
  }
 ],
 "metadata": {
  "kernelspec": {
   "display_name": "Python 3",
   "language": "python",
   "name": "python3"
  },
  "language_info": {
   "codemirror_mode": {
    "name": "ipython",
    "version": 3
   },
   "file_extension": ".py",
   "mimetype": "text/x-python",
   "name": "python",
   "nbconvert_exporter": "python",
   "pygments_lexer": "ipython3",
   "version": "3.7.9"
  }
 },
 "nbformat": 4,
 "nbformat_minor": 4
}
