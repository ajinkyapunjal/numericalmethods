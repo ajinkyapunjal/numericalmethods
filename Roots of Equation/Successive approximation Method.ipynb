{
 "cells": [
  {
   "cell_type": "code",
   "execution_count": 49,
   "metadata": {},
   "outputs": [
    {
     "data": {
      "text/plain": [
       "'\\nimport math\\np = lambda x: math.exp(-x)\\napprox = sar(3,p,1e-3,20)\\nprint(approx)\\n\\n'"
      ]
     },
     "execution_count": 49,
     "metadata": {},
     "output_type": "execute_result"
    }
   ],
   "source": [
    "'''\n",
    "x0-Inital guess\n",
    "f-function\n",
    "epsilon-min value or accuracy\n",
    "max_itr- maximun no. of iterations\n",
    "'''\n",
    "\n",
    "def sar(x0,f,epsilon,max_itr):\n",
    "    for n in range (1,max_itr+1):  \n",
    "        x = f(x0)     #SAR condition\n",
    "        if (abs(x-x0))<epsilon:\n",
    "            print('Found solution after',n,'iterations.')\n",
    "            return x\n",
    "        print(n,'\\t',x0,'\\t',x,'\\t',abs(x-x0))\n",
    "        x0 = x\n",
    "    print('Exceeded maximum iterations. No solution found.')\n",
    "    return None\n",
    " \n",
    "\"\"\"\n",
    "import math\n",
    "p = lambda x: math.exp(-x)\n",
    "approx = sar(3,p,1e-3,20)\n",
    "print(approx)\n",
    "\n",
    "\"\"\"    \n",
    "\n",
    " "
   ]
  },
  {
   "cell_type": "code",
   "execution_count": null,
   "metadata": {},
   "outputs": [],
   "source": []
  }
 ],
 "metadata": {
  "kernelspec": {
   "display_name": "Python 3",
   "language": "python",
   "name": "python3"
  },
  "language_info": {
   "codemirror_mode": {
    "name": "ipython",
    "version": 3
   },
   "file_extension": ".py",
   "mimetype": "text/x-python",
   "name": "python",
   "nbconvert_exporter": "python",
   "pygments_lexer": "ipython3",
   "version": "3.8.5"
  }
 },
 "nbformat": 4,
 "nbformat_minor": 4
}
