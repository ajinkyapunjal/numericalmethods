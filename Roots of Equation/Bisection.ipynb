{
 "cells": [
  {
   "cell_type": "code",
   "execution_count": 2,
   "metadata": {},
   "outputs": [
    {
     "data": {
      "text/plain": [
       "2.8625"
      ]
     },
     "execution_count": 2,
     "metadata": {},
     "output_type": "execute_result"
    }
   ],
   "source": [
    "'''\n",
    "f is the function\n",
    "a,b is the range\n",
    "max_itr - maximum no. of iterations\n",
    "bisection function returns root and no. of iterations performed\n",
    "\n",
    "Examples\n",
    "--------\n",
    ">>> f = lambda x: x**2 - x - 1\n",
    ">>> bisection_auto(f,1,2)\n",
    "Found exact solution.\n",
    "(1.618033988749895, 106)\n",
    "'''\n",
    "\n",
    "def bisection(f,a,b,max_itr):\n",
    "    if f(a)*f(b) >= 0:\n",
    "        print(\"Bisection method fails.\")\n",
    "        return None\n",
    "  \n",
    "    a_n = a\n",
    "    b_n = b\n",
    "    for n in range(1,max_itr+1):\n",
    "        m_n = (a_n + b_n)/2\n",
    "        f_m_n = f(m_n)\n",
    "        \n",
    "        if f(a_n)*f_m_n < 0:\n",
    "            a_n = a_n\n",
    "            b_n = m_n\n",
    "        elif f(b_n)*f_m_n < 0:\n",
    "            a_n = m_n\n",
    "            b_n = b_n\n",
    "        elif f_m_n == 0:\n",
    "            print(\"Found exact solution.\")\n",
    "            return m_n, N\n",
    "        else:\n",
    "            print(\"Bisection method fails\")\n",
    "            return None\n",
    "        \n",
    "    return (a_n + b_n)/2\n",
    "\n",
    "\n",
    "p = lambda x: -0.9*x**2+1.7*x+2.5\n",
    "bisection(p,2.8,3,3)\n",
    "\n",
    "\n",
    "\n"
   ]
  },
  {
   "cell_type": "code",
   "execution_count": null,
   "metadata": {},
   "outputs": [],
   "source": []
  }
 ],
 "metadata": {
  "kernelspec": {
   "display_name": "Python 3",
   "language": "python",
   "name": "python3"
  },
  "language_info": {
   "codemirror_mode": {
    "name": "ipython",
    "version": 3
   },
   "file_extension": ".py",
   "mimetype": "text/x-python",
   "name": "python",
   "nbconvert_exporter": "python",
   "pygments_lexer": "ipython3",
   "version": "3.8.5"
  }
 },
 "nbformat": 4,
 "nbformat_minor": 4
}
