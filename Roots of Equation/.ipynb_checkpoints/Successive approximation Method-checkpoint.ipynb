{
 "cells": [
  {
   "cell_type": "code",
   "execution_count": 48,
   "metadata": {},
   "outputs": [
    {
     "name": "stdout",
     "output_type": "stream",
     "text": [
      "1 \t 3 \t 0.049787068367863944 \t 2.950212931632136\n",
      "2 \t 0.049787068367863944 \t 0.9514319929004534 \t 0.9016449245325895\n",
      "3 \t 0.9514319929004534 \t 0.3861876093916742 \t 0.5652443835087793\n",
      "4 \t 0.3861876093916742 \t 0.6796430063078102 \t 0.293455396916136\n",
      "5 \t 0.6796430063078102 \t 0.506797883722836 \t 0.1728451225849742\n",
      "6 \t 0.506797883722836 \t 0.6024215173735119 \t 0.09562363365067594\n",
      "7 \t 0.6024215173735119 \t 0.5474842869305725 \t 0.05493723044293941\n",
      "8 \t 0.5474842869305725 \t 0.5784030777943232 \t 0.03091879086375071\n",
      "9 \t 0.5784030777943232 \t 0.5607931949954246 \t 0.017609882798898635\n",
      "10 \t 0.5607931949954246 \t 0.5707561633209904 \t 0.009962968325565869\n",
      "11 \t 0.5707561633209904 \t 0.5650979707438682 \t 0.00565819257712219\n",
      "12 \t 0.5650979707438682 \t 0.5683044668187246 \t 0.0032064960748563465\n",
      "13 \t 0.5683044668187246 \t 0.5664851192008641 \t 0.0018193476178605117\n",
      "14 \t 0.5664851192008641 \t 0.5675166906620319 \t 0.001031571461167835\n",
      "Found solution after 15 iterations.\n",
      "0.5669315584949194\n"
     ]
    }
   ],
   "source": [
    "'''\n",
    "x0-Inital guess\n",
    "f-function\n",
    "epsilon-min value or accuracy\n",
    "max_itr- maximun no. of iterations\n",
    "'''\n",
    "\n",
    "def sar(x0,f,epsilon,max_itr):\n",
    "    for n in range (1,max_itr+1):  \n",
    "        x = f(x0)     #SAR condition\n",
    "        if (abs(x-x0))<epsilon:\n",
    "            print('Found solution after',n,'iterations.')\n",
    "            return x\n",
    "        print(n,'\\t',x0,'\\t',x,'\\t',abs(x-x0))\n",
    "        x0 = x\n",
    "    print('Exceeded maximum iterations. No solution found.')\n",
    "    return None\n",
    " \n",
    "\"\"\"\n",
    "import math\n",
    "p = lambda x: math.exp(-x)\n",
    "approx = sar(3,p,1e-3,20)\n",
    "print(approx)\n",
    "\n",
    "\"\"\"    \n",
    "\n",
    " "
   ]
  },
  {
   "cell_type": "code",
   "execution_count": null,
   "metadata": {},
   "outputs": [],
   "source": []
  }
 ],
 "metadata": {
  "kernelspec": {
   "display_name": "Python 3",
   "language": "python",
   "name": "python3"
  },
  "language_info": {
   "codemirror_mode": {
    "name": "ipython",
    "version": 3
   },
   "file_extension": ".py",
   "mimetype": "text/x-python",
   "name": "python",
   "nbconvert_exporter": "python",
   "pygments_lexer": "ipython3",
   "version": "3.8.5"
  }
 },
 "nbformat": 4,
 "nbformat_minor": 4
}
