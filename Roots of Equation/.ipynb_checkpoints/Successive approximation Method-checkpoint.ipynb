{
 "cells": [
  {
   "cell_type": "code",
   "execution_count": 71,
   "metadata": {},
   "outputs": [
    {
     "name": "stdout",
     "output_type": "stream",
     "text": [
      "Function is diverging for the current \n",
      "1 \t 0 \t 0.75 \t 0.75\n",
      "2 \t 0.75 \t 0.8203125 \t 0.0703125\n",
      "3 \t 0.8203125 \t 0.8341140747070312 \t 0.01380157470703125\n",
      "4 \t 0.8341140747070312 \t 0.8369682862030459 \t 0.0028542114960146137\n",
      "Found solution after 4 iterations.\n",
      "0.8353452105075121 ± 0.009051265195012093\n"
     ]
    }
   ],
   "source": [
    "'''\n",
    "x0-Inital guess\n",
    "f-function\n",
    "df-derivative of function \n",
    "epsilon-min value or accuracy\n",
    "max_itr- maximun no. of iterations\n",
    "'''\n",
    "\n",
    "def sar(x0,f,df,epsilon,max_itr):\n",
    "    if df(x0)>1:           #divergence check\n",
    "        print(\"function is diverging for current initial value\")\n",
    "        return None\n",
    "    else:\n",
    "        print(\"Function is diverging for the current \")\n",
    "        for n in range (1,max_itr+1):  \n",
    "            x = f(x0)     #SAR condition\n",
    "            if (abs(x-x0))<epsilon:\n",
    "                print(n,'\\t',x0,'\\t',x,'\\t',abs(x-x0))\n",
    "                print('Found solution after',n,'iterations.')\n",
    "                print(approx[0],'±',approx[1])\n",
    "                return x,abs(x-x0)\n",
    "            print(n,'\\t',x0,'\\t',x,'\\t',abs(x-x0))\n",
    "            x0 = x\n",
    "        print('Exceeded maximum iterations. No solution found.')\n",
    "        return None\n",
    "\n",
    "\n",
    "\"\"\"\n",
    "import math\n",
    "p = lambda x: (x**2+6)/8\n",
    "dp = lambda x: 2*x-8\n",
    "approx = sar(0,p,dp,1e-2,4)\n",
    "\n",
    "\"\"\"\n",
    "\n",
    " "
   ]
  },
  {
   "cell_type": "code",
   "execution_count": null,
   "metadata": {},
   "outputs": [],
   "source": []
  }
 ],
 "metadata": {
  "kernelspec": {
   "display_name": "Python 3",
   "language": "python",
   "name": "python3"
  },
  "language_info": {
   "codemirror_mode": {
    "name": "ipython",
    "version": 3
   },
   "file_extension": ".py",
   "mimetype": "text/x-python",
   "name": "python",
   "nbconvert_exporter": "python",
   "pygments_lexer": "ipython3",
   "version": "3.8.5"
  }
 },
 "nbformat": 4,
 "nbformat_minor": 4
}
