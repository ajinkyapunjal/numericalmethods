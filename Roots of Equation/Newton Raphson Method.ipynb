{
 "cells": [
  {
   "cell_type": "code",
   "execution_count": 14,
   "metadata": {},
   "outputs": [
    {
     "name": "stdout",
     "output_type": "stream",
     "text": [
      "Itrno.\tx\tf(x)\tdf(x)\txn\tabs(x0-xn)\n",
      "[1, 0, 3, -5, 0.6, 0.6]\n",
      "[2, 0.6, 0.2160000000000002, -3.92, 0.6551, 0.05510000000000004]\n",
      "[3, 0.6551, 0.005640102150999748, -3.7125319699999997, 0.6566, 0.0014999999999999458]\n",
      "Found solution after 4 iterations.\n"
     ]
    }
   ],
   "source": [
    "'''\n",
    "x0-Inital guess\n",
    "f-function\n",
    "df-derivative of function\n",
    "epsilon-min value or accuracy\n",
    "max_itr- maximun no. of iterations\n",
    "acc, rounding the x0 and xn to decimal places\n",
    "'''\n",
    "\n",
    "import pandas as pd\n",
    "\n",
    "def newtonraphson(x0,f,df,epsilon,max_itr,acc):\n",
    "    print('Itrno.\\tx\\tf(x)\\tdf(x)\\txn\\tabs(x0-xn)')\n",
    "    for n in range (1,max_itr+1):\n",
    "        fx = f(x0)\n",
    "        if abs(fx) < epsilon:\n",
    "            print('Found solution after',n,'iterations.')\n",
    "            return x0\n",
    "        \n",
    "        dfx = df(x0)\n",
    "        if dfx == 0:\n",
    "            print('Zero derivative. No solution found.')\n",
    "            return None\n",
    "        \n",
    "        xn = x0 - fx/dfx\n",
    "        xn = round(xn,acc)\n",
    "        #print(n,\"\\t\",x0,\"\\t\",fx,\"\\t\",dfx,\"\\t\",xn,\"\\t\",abs(x0-xn))\n",
    "        \n",
    "        temp = [n,x0,fx,dfx,xn,abs(x0-xn)]\n",
    "        print(temp)\n",
    "        x0 = xn\n",
    "        \n",
    "    print('Exceeded maximum iterations. No solution found.')\n",
    "    \n",
    "    return None\n",
    " \n",
    "    \n",
    "\n",
    "p = lambda x: x**3-5*x+3\n",
    "Dp = lambda x: 3*x**2-5\n",
    "approx = newtonraphson(0,p,Dp,1e-3,10,4)\n",
    "\n",
    "\n",
    " \n",
    "\n"
   ]
  },
  {
   "cell_type": "code",
   "execution_count": null,
   "metadata": {},
   "outputs": [],
   "source": []
  },
  {
   "cell_type": "code",
   "execution_count": null,
   "metadata": {},
   "outputs": [],
   "source": []
  }
 ],
 "metadata": {
  "kernelspec": {
   "display_name": "Python 3",
   "language": "python",
   "name": "python3"
  },
  "language_info": {
   "codemirror_mode": {
    "name": "ipython",
    "version": 3
   },
   "file_extension": ".py",
   "mimetype": "text/x-python",
   "name": "python",
   "nbconvert_exporter": "python",
   "pygments_lexer": "ipython3",
   "version": "3.7.9"
  }
 },
 "nbformat": 4,
 "nbformat_minor": 4
}
