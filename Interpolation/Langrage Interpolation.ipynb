{
 "cells": [
  {
   "cell_type": "code",
   "execution_count": 10,
   "metadata": {},
   "outputs": [],
   "source": [
    "#Input x\n",
    "x_g = 2"
   ]
  },
  {
   "cell_type": "code",
   "execution_count": 11,
   "metadata": {},
   "outputs": [],
   "source": [
    "#Importing libraries\n",
    "import numpy as np\n",
    "import pandas as pd\n",
    "import math"
   ]
  },
  {
   "cell_type": "code",
   "execution_count": 12,
   "metadata": {},
   "outputs": [],
   "source": [
    "#reading data file\n",
    "filename = 'abc.txt'\n",
    "data = np.loadtxt(filename,delimiter='\\t')"
   ]
  },
  {
   "cell_type": "code",
   "execution_count": 13,
   "metadata": {},
   "outputs": [],
   "source": [
    "#Separating X and Y columns\n",
    "x = np.array(data[0:,0])\n",
    "y = np.array(data[0:,1])\n",
    "n = x.shape[0]"
   ]
  },
  {
   "cell_type": "code",
   "execution_count": 14,
   "metadata": {},
   "outputs": [],
   "source": [
    "#langragian Interpolation function\n",
    "def langrageinterpolation(x_g):\n",
    "    l = np.ones(n)\n",
    "    ly = np.ones(n)\n",
    "    for i in range(0,n):                                 #Calculater L*y\n",
    "        for ii in range(0,n):                            #Calculates L\n",
    "            if ii != i:\n",
    "                l[i] = (x_g-x[ii])/(x[i]-x[ii])*l[i]     #heart of the program\n",
    "                #print(l[i])\n",
    "        ly[i] = l[i]*y[i]  \n",
    "    y_g = np.sum(ly)\n",
    "\n",
    "    #college table\n",
    "    #1st row is l1,L2,L3..\n",
    "    #2nd row is y1*l1, y2*L2 ...\n",
    "    matrix = np.array((l,ly)) \n",
    "    print(matrix)\n",
    "    #print('x=',x_g, '\\t','y=',y_g)\n",
    "    return y_g"
   ]
  },
  {
   "cell_type": "code",
   "execution_count": 15,
   "metadata": {},
   "outputs": [
    {
     "name": "stdout",
     "output_type": "stream",
     "text": [
      "[[   94.9609375   -424.53125      721.703125    -555.15625\n",
      "    164.0234375 ]\n",
      " [   68.371875    -768.4015625   1970.24953125 -1926.3921875\n",
      "    652.81328125]]\n"
     ]
    },
    {
     "data": {
      "text/plain": [
       "-3.35906250000005"
      ]
     },
     "execution_count": 15,
     "metadata": {},
     "output_type": "execute_result"
    }
   ],
   "source": [
    "langrageinterpolation(x_g)"
   ]
  },
  {
   "cell_type": "code",
   "execution_count": 16,
   "metadata": {},
   "outputs": [
    {
     "name": "stdout",
     "output_type": "stream",
     "text": [
      "[[ 1.    0.   -0.    0.   -0.  ]\n",
      " [ 0.72  0.   -0.    0.   -0.  ]]\n",
      "[[-6.93889390e-17  1.00000000e+00  4.16333634e-16 -1.38777878e-16\n",
      "   2.31296463e-17]\n",
      " [-4.99600361e-17  1.81000000e+00  1.13659082e-15 -4.81559237e-16\n",
      "   9.20559925e-17]]\n",
      "[[ 0.   -0.    1.    0.   -0.  ]\n",
      " [ 0.   -0.    2.73  0.   -0.  ]]\n",
      "[[-4.62592927e-17  2.77555756e-16 -8.32667268e-16  1.00000000e+00\n",
      "   1.38777878e-16]\n",
      " [-3.33066907e-17  5.02375919e-16 -2.27318164e-15  3.47000000e+00\n",
      "   5.52335955e-16]]\n",
      "[[ 0.   -0.    0.   -0.    1.  ]\n",
      " [ 0.   -0.    0.   -0.    3.98]]\n"
     ]
    },
    {
     "data": {
      "image/png": "[encoded data removed]",
      "text/plain": [
       "<Figure size 432x288 with 1 Axes>"
      ]
     },
     "metadata": {
      "needs_background": "light"
     },
     "output_type": "display_data"
    },
    {
     "data": {
      "text/plain": [
       "<Figure size 20000x10000 with 0 Axes>"
      ]
     },
     "metadata": {},
     "output_type": "display_data"
    }
   ],
   "source": [
    "from matplotlib import pyplot as plt\n",
    "\n",
    "x_interpolation = np.linspace(x[0],x[x.shape[0]-1],x.shape[0])\n",
    "y_interpolation = np.ones(x_interpolation.shape[0])\n",
    "for i in range (0,x_interpolation.shape[0]):\n",
    "    y_interpolation[i] = langrageinterpolation(x_interpolation[i])\n",
    "\n",
    "plt.plot(x, y,'r*--',alpha = 0.75,label = 'interpolated data')\n",
    "plt.plot(x_interpolation,y_interpolation,'b-',alpha = 0.6, label = 'raw data')\n",
    "\n",
    "plt.title('Langragian Interpolation')\n",
    "plt.xlabel('x axis') \n",
    "plt.ylabel('y axis') \n",
    "plt.grid(alpha =.6, linestyle ='--')\n",
    "plt.legend()\n",
    "plt.figure(figsize=(20,10),dpi=1000)\n",
    "\n",
    "plt.show()"
   ]
  },
  {
   "cell_type": "code",
   "execution_count": null,
   "metadata": {},
   "outputs": [],
   "source": []
  }
 ],
 "metadata": {
  "kernelspec": {
   "display_name": "Python 3",
   "language": "python",
   "name": "python3"
  },
  "language_info": {
   "codemirror_mode": {
    "name": "ipython",
    "version": 3
   },
   "file_extension": ".py",
   "mimetype": "text/x-python",
   "name": "python",
   "nbconvert_exporter": "python",
   "pygments_lexer": "ipython3",
   "version": "3.7.9"
  }
 },
 "nbformat": 4,
 "nbformat_minor": 4
}
