{
 "cells": [
  {
   "cell_type": "code",
   "execution_count": 37,
   "metadata": {},
   "outputs": [],
   "source": [
    "#Input y\n",
    "y_g = 12"
   ]
  },
  {
   "cell_type": "code",
   "execution_count": 31,
   "metadata": {},
   "outputs": [],
   "source": [
    "#Importing libraries\n",
    "import numpy as np\n",
    "import pandas as pd\n",
    "import math"
   ]
  },
  {
   "cell_type": "code",
   "execution_count": 32,
   "metadata": {},
   "outputs": [],
   "source": [
    "#reading data file\n",
    "filename = 'abc.txt'\n",
    "data = np.loadtxt(filename,delimiter='\\t')"
   ]
  },
  {
   "cell_type": "code",
   "execution_count": 33,
   "metadata": {},
   "outputs": [],
   "source": [
    "#Separating X and Y columns\n",
    "x = np.array(data[0:,0])\n",
    "y = np.array(data[0:,1])\n",
    "n = x.shape[0]"
   ]
  },
  {
   "cell_type": "code",
   "execution_count": 38,
   "metadata": {},
   "outputs": [],
   "source": [
    "#langragian Interpolation function\n",
    "def inverselangrageinterpolation(y_g):\n",
    "    l = np.ones(n)\n",
    "    lx = np.ones(n)\n",
    "    for i in range(0,n):                                 #Calculater L*y\n",
    "        for ii in range(0,n):                            #Calculates L\n",
    "            if ii != i:\n",
    "                l[i] = (y_g-y[ii])/(y[i]-y[ii])*l[i]     #heart of the program\n",
    "        lx[i] = l[i]*x[i]  \n",
    "    y_g = np.sum(lx)\n",
    "\n",
    "    #college table\n",
    "    #1st row is l1,L2,L3..\n",
    "    #2nd row is x1*l1, x2*L2 ...\n",
    "    matrix = np.array((l,lx)) \n",
    "    print(matrix)\n",
    "    #print('x=',y_g, '\\t','y=',y_g)\n",
    "    return y_g"
   ]
  },
  {
   "cell_type": "code",
   "execution_count": 39,
   "metadata": {},
   "outputs": [
    {
     "name": "stdout",
     "output_type": "stream",
     "text": [
      "[[ 0.11956522 -0.46666667  0.93888889  0.40821256]\n",
      " [ 0.14347826 -0.98        2.62888889  1.6736715 ]]\n"
     ]
    },
    {
     "data": {
      "text/plain": [
       "3.4660386473429954"
      ]
     },
     "execution_count": 39,
     "metadata": {},
     "output_type": "execute_result"
    }
   ],
   "source": [
    "inverselangrageinterpolation(y_g)"
   ]
  },
  {
   "cell_type": "code",
   "execution_count": 41,
   "metadata": {},
   "outputs": [
    {
     "name": "stdout",
     "output_type": "stream",
     "text": [
      "[[ 1.   0.  -0.   0. ]\n",
      " [ 1.2  0.  -0.   0. ]]\n",
      "[[-0.05413105  0.92558635  0.14513032 -0.01658561]\n",
      " [-0.06495726  1.94373133  0.40636488 -0.068001  ]]\n",
      "[[ 0.04314204 -0.19486028  1.09884382  0.05287442]\n",
      " [ 0.05177045 -0.4092066   3.07676269  0.21678514]]\n",
      "[[-0.   0.  -0.   1. ]\n",
      " [-0.   0.  -0.   4.1]]\n"
     ]
    },
    {
     "data": {
      "image/png": "[encoded data removed]",
      "text/plain": [
       "<Figure size 432x288 with 1 Axes>"
      ]
     },
     "metadata": {
      "needs_background": "light"
     },
     "output_type": "display_data"
    },
    {
     "data": {
      "text/plain": [
       "<Figure size 20000x10000 with 0 Axes>"
      ]
     },
     "metadata": {},
     "output_type": "display_data"
    }
   ],
   "source": [
    "from matplotlib import pyplot as plt\n",
    "\n",
    "y_interpolation = np.linspace(y[0],y[y.shape[0]-1],y.shape[0])\n",
    "x_interpolation = np.ones(y_interpolation.shape[0])\n",
    "for i in range (0,x_interpolation.shape[0]):\n",
    "    x_interpolation[i] = inverselangrageinterpolation(y_interpolation[i])\n",
    "\n",
    "plt.plot(x, y,'r*--',alpha = 0.75,label = 'interpolated data')\n",
    "plt.plot(x_interpolation,y_interpolation,'b-',alpha = 0.6, label = 'raw data')\n",
    "\n",
    "plt.title('Langragian Interpolation')\n",
    "plt.xlabel('x axis') \n",
    "plt.ylabel('y axis') \n",
    "plt.grid(alpha =.6, linestyle ='--')\n",
    "plt.legend()\n",
    "plt.figure(figsize=(20,10),dpi=1000)\n",
    "\n",
    "plt.show()"
   ]
  },
  {
   "cell_type": "code",
   "execution_count": null,
   "metadata": {},
   "outputs": [],
   "source": []
  }
 ],
 "metadata": {
  "kernelspec": {
   "display_name": "Python 3",
   "language": "python",
   "name": "python3"
  },
  "language_info": {
   "codemirror_mode": {
    "name": "ipython",
    "version": 3
   },
   "file_extension": ".py",
   "mimetype": "text/x-python",
   "name": "python",
   "nbconvert_exporter": "python",
   "pygments_lexer": "ipython3",
   "version": "3.7.9"
  }
 },
 "nbformat": 4,
 "nbformat_minor": 4
}
