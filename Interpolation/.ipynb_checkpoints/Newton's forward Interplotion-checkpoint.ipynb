{
 "cells": [
  {
   "cell_type": "code",
   "execution_count": 205,
   "metadata": {},
   "outputs": [],
   "source": [
    "#Input x\n",
    "x_g = 1.5"
   ]
  },
  {
   "cell_type": "code",
   "execution_count": 206,
   "metadata": {},
   "outputs": [],
   "source": [
    "#Importing libraries\n",
    "import numpy as np\n",
    "import pandas as pd\n",
    "import math"
   ]
  },
  {
   "cell_type": "code",
   "execution_count": 207,
   "metadata": {},
   "outputs": [],
   "source": [
    "#reading data file\n",
    "filename = 'abc.txt'\n",
    "df = np.loadtxt(filename,delimiter='\\t')"
   ]
  },
  {
   "cell_type": "code",
   "execution_count": 208,
   "metadata": {},
   "outputs": [],
   "source": [
    "#Separating X and Y columns\n",
    "n = x.shape[0]\n",
    "data = np.zeros((n,n+1))\n",
    "data[:,0] = np.array(df[:,0])\n",
    "data[:,1] = np.array(df[:,1])"
   ]
  },
  {
   "cell_type": "code",
   "execution_count": null,
   "metadata": {},
   "outputs": [],
   "source": [
    "def diff(np_array_in):\n",
    "    n = np_array_in.shape[0]-1\n",
    "    np_array_out = np.ones(n)\n",
    "    for i in range(0,n):\n",
    "        np_array_out[i] = np_array_in[i+1] - np_array_in[i]\n",
    "    return np_array_out\n",
    "\n",
    "def ucal(u,n):\n",
    "    temp = u; \n",
    "    for i in range(1, n): \n",
    "        temp = temp * (u - i); \n",
    "    return temp;\n",
    "\n",
    "#Calculates the delta col1 and col2 is X and Y, Col3 is Delta y, Col4 is delta square y\n",
    "for i in range (2,n+1):\n",
    "    data[:n-i+1,i] = diff(data[:n-i+2,i-1])\n",
    "    \n",
    "#Calculates the sum by the formula\n",
    "sum = data[0,1]; \n",
    "u = (x_g-data[0,0])/(data[1,0]-data[0,0]) \n",
    "for i in range(1,n): \n",
    "    sum = sum + (ucal(u, i) * data[0,i+1]) / math.factorial(i);\n",
    "\n",
    "print(pd.DataFrame(data))\n",
    "print('\\nNewtons forward Interpolation of x =',x_g,'is',sum)"
   ]
  }
 ],
 "metadata": {
  "kernelspec": {
   "display_name": "Python 3",
   "language": "python",
   "name": "python3"
  },
  "language_info": {
   "codemirror_mode": {
    "name": "ipython",
    "version": 3
   },
   "file_extension": ".py",
   "mimetype": "text/x-python",
   "name": "python",
   "nbconvert_exporter": "python",
   "pygments_lexer": "ipython3",
   "version": "3.7.9"
  }
 },
 "nbformat": 4,
 "nbformat_minor": 4
}
