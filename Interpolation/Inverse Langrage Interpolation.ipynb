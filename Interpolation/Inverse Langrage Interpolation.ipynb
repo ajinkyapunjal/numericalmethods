{
 "cells": [
  {
   "cell_type": "code",
   "execution_count": 43,
   "metadata": {},
   "outputs": [],
   "source": [
    "#Input y\n",
    "y_g = 7"
   ]
  },
  {
   "cell_type": "code",
   "execution_count": 44,
   "metadata": {},
   "outputs": [],
   "source": [
    "#Importing libraries\n",
    "import numpy as np\n",
    "import pandas as pd\n",
    "import math"
   ]
  },
  {
   "cell_type": "code",
   "execution_count": 45,
   "metadata": {},
   "outputs": [],
   "source": [
    "#reading data file\n",
    "filename = 'abc.txt'\n",
    "data = np.loadtxt(filename,delimiter='\\t')"
   ]
  },
  {
   "cell_type": "code",
   "execution_count": 46,
   "metadata": {},
   "outputs": [],
   "source": [
    "#Separating X and Y columns\n",
    "x = np.array(data[0:,0])\n",
    "y = np.array(data[0:,1])\n",
    "n = x.shape[0]"
   ]
  },
  {
   "cell_type": "code",
   "execution_count": 47,
   "metadata": {},
   "outputs": [],
   "source": [
    "#langragian Interpolation function\n",
    "def inverselangrageinterpolation(y_g):\n",
    "    l = np.ones(n)\n",
    "    lx = np.ones(n)\n",
    "    for i in range(0,n):                                 #Calculater L*y\n",
    "        for ii in range(0,n):                            #Calculates L\n",
    "            if ii != i:\n",
    "                l[i] = (y_g-y[ii])/(y[i]-y[ii])*l[i]     #heart of the program\n",
    "        lx[i] = l[i]*x[i]  \n",
    "    y_g = np.sum(lx)\n",
    "\n",
    "    #college table\n",
    "    #1st row is l1,L2,L3..\n",
    "    #2nd row is x1*l1, x2*L2 ...\n",
    "    matrix = np.array((l,lx)) \n",
    "    print(matrix)\n",
    "    #print('x=',y_g, '\\t','y=',y_g)\n",
    "    return y_g"
   ]
  },
  {
   "cell_type": "code",
   "execution_count": 48,
   "metadata": {},
   "outputs": [
    {
     "name": "stdout",
     "output_type": "stream",
     "text": [
      "[[ 0.41551075  0.58979103  0.00251606 -0.00781784]\n",
      " [ 0.41551075  1.17958205  0.01054757 -0.03908919]]\n"
     ]
    },
    {
     "data": {
      "text/plain": [
       "1.5665511880462248"
      ]
     },
     "execution_count": 48,
     "metadata": {},
     "output_type": "execute_result"
    }
   ],
   "source": [
    "inverselangrageinterpolation(y_g)"
   ]
  },
  {
   "cell_type": "code",
   "execution_count": 50,
   "metadata": {},
   "outputs": [
    {
     "name": "stdout",
     "output_type": "stream",
     "text": [
      "[[ 1.  0.  0. -0.]\n",
      " [ 1.  0.  0. -0.]]\n",
      "[[-1.2875949   2.1285987  -0.06307643  0.22207264]\n",
      " [-1.2875949   4.2571974  -0.26442272  1.11036318]]\n",
      "[[-1.07702412  1.48523435 -0.15123145  0.74302122]\n",
      " [-1.07702412  2.97046869 -0.63397737  3.71510611]]\n",
      "[[ 0. -0.  0.  1.]\n",
      " [ 0. -0.  0.  5.]]\n"
     ]
    },
    {
     "data": {
      "image/png": "[encoded data removed]",
      "text/plain": [
       "<Figure size 432x288 with 1 Axes>"
      ]
     },
     "metadata": {
      "needs_background": "light"
     },
     "output_type": "display_data"
    },
    {
     "data": {
      "text/plain": [
       "<Figure size 20000x10000 with 0 Axes>"
      ]
     },
     "metadata": {},
     "output_type": "display_data"
    }
   ],
   "source": [
    "from matplotlib import pyplot as plt\n",
    "\n",
    "y_interpolation = np.linspace(y[0],y[y.shape[0]-1],y.shape[0])\n",
    "x_interpolation = np.ones(y_interpolation.shape[0])\n",
    "for i in range (0,x_interpolation.shape[0]):\n",
    "    x_interpolation[i] = inverselangrageinterpolation(y_interpolation[i])\n",
    "\n",
    "plt.plot(x, y,'r*--',alpha = 0.75,label = 'raw data')\n",
    "plt.plot(x_interpolation,y_interpolation,'b-',alpha = 0.6, label = 'interpolated data')\n",
    "\n",
    "plt.title('Inverse Langragian Interpolation')\n",
    "plt.xlabel('x axis') \n",
    "plt.ylabel('y axis') \n",
    "plt.grid(alpha =.6, linestyle ='--')\n",
    "plt.legend()\n",
    "plt.figure(figsize=(20,10),dpi=1000)\n",
    "\n",
    "plt.show()"
   ]
  },
  {
   "cell_type": "code",
   "execution_count": null,
   "metadata": {},
   "outputs": [],
   "source": []
  },
  {
   "cell_type": "code",
   "execution_count": null,
   "metadata": {},
   "outputs": [],
   "source": []
  }
 ],
 "metadata": {
  "kernelspec": {
   "display_name": "Python 3",
   "language": "python",
   "name": "python3"
  },
  "language_info": {
   "codemirror_mode": {
    "name": "ipython",
    "version": 3
   },
   "file_extension": ".py",
   "mimetype": "text/x-python",
   "name": "python",
   "nbconvert_exporter": "python",
   "pygments_lexer": "ipython3",
   "version": "3.7.9"
  }
 },
 "nbformat": 4,
 "nbformat_minor": 4
}
