{
 "cells": [
  {
   "cell_type": "code",
   "execution_count": 6,
   "metadata": {},
   "outputs": [],
   "source": [
    "#Input x\n",
    "x_g = 3"
   ]
  },
  {
   "cell_type": "code",
   "execution_count": 7,
   "metadata": {},
   "outputs": [],
   "source": [
    "#Importing libraries\n",
    "import numpy as np\n",
    "import pandas as pd\n",
    "import math"
   ]
  },
  {
   "cell_type": "code",
   "execution_count": 8,
   "metadata": {},
   "outputs": [],
   "source": [
    "#reading data file\n",
    "filename = 'abc.txt'\n",
    "df = np.loadtxt(filename,delimiter='\\t')"
   ]
  },
  {
   "cell_type": "code",
   "execution_count": 9,
   "metadata": {},
   "outputs": [
    {
     "name": "stdout",
     "output_type": "stream",
     "text": [
      "5\n"
     ]
    }
   ],
   "source": [
    "#Separating X and Y columns\n",
    "n = df.shape[0]\n",
    "data = np.zeros((n,n+1))\n",
    "data[:,0] = np.array(df[:,0])\n",
    "data[:,1] = np.array(df[:,1])\n",
    "print(n)"
   ]
  },
  {
   "cell_type": "code",
   "execution_count": 10,
   "metadata": {},
   "outputs": [
    {
     "name": "stdout",
     "output_type": "stream",
     "text": [
      "      0      1     2    3    4    5\n",
      "0   2.0   30.0  13.0  8.0 -6.0 -2.0\n",
      "1   4.0   43.0  21.0  2.0 -8.0  0.0\n",
      "2   6.0   64.0  23.0 -6.0  0.0  0.0\n",
      "3   8.0   87.0  17.0  0.0  0.0  0.0\n",
      "4  10.0  104.0   0.0  0.0  0.0  0.0\n",
      "\n",
      "Newtons forward Interpolation of x = 3 is 35.203125\n"
     ]
    }
   ],
   "source": [
    "def diff(np_array_in):\n",
    "    n = np_array_in.shape[0]-1\n",
    "    np_array_out = np.ones(n)\n",
    "    for i in range(0,n):\n",
    "        np_array_out[i] = np_array_in[i+1] - np_array_in[i]\n",
    "    return np_array_out\n",
    "\n",
    "def ucal(u,n):\n",
    "    temp = u; \n",
    "    for i in range(1, n): \n",
    "        temp = temp * (u - i); \n",
    "    return temp;\n",
    "\n",
    "#Calculates the delta col1 and col2 is X and Y, Col3 is Delta y, Col4 is delta square y\n",
    "for i in range (2,n+1):\n",
    "    data[:n-i+1,i] = diff(data[:n-i+2,i-1])\n",
    "    \n",
    "#Calculates the sum by the formula\n",
    "sum = data[0,1]; \n",
    "u = (x_g-data[0,0])/(data[1,0]-data[0,0]) \n",
    "for i in range(1,n): \n",
    "    sum = sum + (ucal(u, i) * data[0,i+1]) / math.factorial(i);\n",
    "\n",
    "print(pd.DataFrame(data))\n",
    "print('\\nNewtons forward Interpolation of x =',x_g,'is',sum)"
   ]
  },
  {
   "cell_type": "code",
   "execution_count": null,
   "metadata": {},
   "outputs": [],
   "source": []
  }
 ],
 "metadata": {
  "kernelspec": {
   "display_name": "Python 3",
   "language": "python",
   "name": "python3"
  },
  "language_info": {
   "codemirror_mode": {
    "name": "ipython",
    "version": 3
   },
   "file_extension": ".py",
   "mimetype": "text/x-python",
   "name": "python",
   "nbconvert_exporter": "python",
   "pygments_lexer": "ipython3",
   "version": "3.7.9"
  }
 },
 "nbformat": 4,
 "nbformat_minor": 4
}
