{
 "cells": [
  {
   "cell_type": "code",
   "execution_count": 18,
   "metadata": {},
   "outputs": [],
   "source": [
    "# Importing NumPy Library\n",
    "import numpy as np\n",
    "import sys\n",
    "\n",
    "def gausselimination():\n",
    "    # Reading number of unknowns\n",
    "    n = int(input('Enter number of unknowns: '))\n",
    "\n",
    "    # Making numpy array of n x n+1 size and initializing \n",
    "    # to zero for storing augmented matrix\n",
    "    a = np.zeros((n,n+1))\n",
    "\n",
    "    # Making numpy array of n size and initializing \n",
    "    # to zero for storing solution vector\n",
    "    x = np.zeros(n)\n",
    "\n",
    "    # Reading augmented matrix coefficients\n",
    "    print('Enter Augmented Matrix Coefficients:')\n",
    "    for i in range(n):\n",
    "        for j in range(n+1):\n",
    "            a[i][j] = float(input( 'a['+str(i)+']['+ str(j)+']='))\n",
    "\n",
    "    # Applying Gauss Elimination\n",
    "    for i in range(n):\n",
    "        if a[i][i] == 0.0:\n",
    "            sys.exit('Divide by zero detected!')\n",
    "\n",
    "        for j in range(i+1, n):\n",
    "            ratio = a[j][i]/a[i][i]\n",
    "\n",
    "            for k in range(n+1):\n",
    "                a[j][k] = a[j][k] - ratio * a[i][k]\n",
    "\n",
    "    # Back Substitution\n",
    "    x[n-1] = a[n-1][n]/a[n-1][n-1]\n",
    "\n",
    "    for i in range(n-2,-1,-1):\n",
    "        x[i] = a[i][n]\n",
    "\n",
    "        for j in range(i+1,n):\n",
    "            x[i] = x[i] - a[i][j]*x[j]\n",
    "\n",
    "        x[i] = x[i]/a[i][i]\n",
    "     \n",
    "    '''\n",
    "    # Displaying solution\n",
    "    print('\\nRequired solution is: ')\n",
    "    for i in range(n):\n",
    "        print('X%d = %0.5f' %(i,x[i]), end = '\\t')\n",
    "       \n",
    "    '''\n",
    "    return(x)"
   ]
  },
  {
   "cell_type": "code",
   "execution_count": 21,
   "metadata": {},
   "outputs": [
    {
     "name": "stdout",
     "output_type": "stream",
     "text": [
      "Enter number of unknowns: 2\n",
      "Enter Augmented Matrix Coefficients:\n",
      "a[0][0]=28\n",
      "a[0][1]=7\n",
      "a[0][2]=24\n",
      "a[1][0]=140\n",
      "a[1][1]=28\n",
      "a[1][2]=119.5\n",
      "[0.83928571 0.07142857]\n"
     ]
    }
   ],
   "source": [
    "#numpy array of roots\n",
    "root = gausselimination()\n",
    "print(root)\n"
   ]
  },
  {
   "cell_type": "code",
   "execution_count": null,
   "metadata": {},
   "outputs": [],
   "source": []
  }
 ],
 "metadata": {
  "kernelspec": {
   "display_name": "Python 3",
   "language": "python",
   "name": "python3"
  },
  "language_info": {
   "codemirror_mode": {
    "name": "ipython",
    "version": 3
   },
   "file_extension": ".py",
   "mimetype": "text/x-python",
   "name": "python",
   "nbconvert_exporter": "python",
   "pygments_lexer": "ipython3",
   "version": "3.7.9"
  }
 },
 "nbformat": 4,
 "nbformat_minor": 4
}
