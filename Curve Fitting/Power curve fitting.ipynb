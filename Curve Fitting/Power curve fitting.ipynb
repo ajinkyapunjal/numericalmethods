{
 "cells": [
  {
   "cell_type": "code",
   "execution_count": 47,
   "metadata": {},
   "outputs": [],
   "source": [
    "#Importing libraries\n",
    "import numpy as np\n",
    "import pandas as pd\n",
    "import math"
   ]
  },
  {
   "cell_type": "code",
   "execution_count": 28,
   "metadata": {},
   "outputs": [],
   "source": [
    "#reading data file\n",
    "filename = 'abc.txt'\n",
    "data = np.loadtxt(filename,delimiter='\\t')"
   ]
  },
  {
   "cell_type": "code",
   "execution_count": 29,
   "metadata": {},
   "outputs": [],
   "source": [
    "#Separating X and Y columns\n",
    "x0 = data[0:,0]\n",
    "y0 = data[0:,1]"
   ]
  },
  {
   "cell_type": "code",
   "execution_count": 49,
   "metadata": {},
   "outputs": [
    {
     "name": "stdout",
     "output_type": "stream",
     "text": [
      "x\ty\tX=log(x)\tY=log(y)\tXY\tX^2\n",
      "         0     1          2          3           4           5\n",
      "0   2000.0  15.0   7.600902   2.708050   20.583625   57.773718\n",
      "1   3000.0  15.5   8.006368   2.740840   21.944173   64.101922\n",
      "2   4000.0  16.0   8.294050   2.772589   22.995988   68.791259\n",
      "3   5000.0  17.0   8.517193   2.833213   24.131025   72.542580\n",
      "4   6000.0  18.0   8.699515   2.890372   25.144832   75.681557\n",
      "5  20000.0  81.5  41.118028  13.945064  114.799644  338.891036\n"
     ]
    }
   ],
   "source": [
    "#College requirements\n",
    "print('x\\ty\\tX=log(x)\\tY=log(y)\\tXY\\tX^2')\n",
    "\n",
    "ln_x = np.log(x0)\n",
    "ln_y = np.log(y0)\n",
    "XY = ln_x*ln_y\n",
    "Xr2 = ln_x**2\n",
    "\n",
    "#Actual calculations\n",
    "x = np.sum(x0)\n",
    "y = np.sum(y0)\n",
    "lx = np.sum(ln_x)\n",
    "ly = np.sum(ln_y)\n",
    "xy = np.sum(XY)\n",
    "xr2 = np.sum(Xr2)\n",
    "no = x0.shape[0]\n",
    "\n",
    "temp1 = [x,y,lx,ly,xy,xr2]\n",
    "temp1_ = np.array(temp1)\n",
    "\n",
    "#Table required for college\n",
    "temp = [x0,y0,ln_x,ln_y,XY,Xr2]\n",
    "df = np.transpose(np.array(temp))\n",
    "df = np.vstack((df,temp1))\n",
    "print(pd.DataFrame(df))\n"
   ]
  },
  {
   "cell_type": "code",
   "execution_count": 31,
   "metadata": {},
   "outputs": [],
   "source": [
    "#Guass elimination\n",
    "n = 2\n",
    "\n",
    "# Making numpy array of n x n+1 size and initializing \n",
    "# to zero for storing augmented matrix\n",
    "a = np.zeros((n,n+1))\n",
    "\n",
    "# Making numpy array of n size and initializing \n",
    "# to zero for storing solution vector\n",
    "root = np.zeros(n)\n",
    "\n",
    "a[0][0]=lx\n",
    "a[0][1]=no\n",
    "a[0][2]=ly\n",
    "a[1][0]=xr2\n",
    "a[1][1]=lx\n",
    "a[1][2]=xy\n",
    "\n",
    "#print(a)\n",
    "\n",
    "# Applying Gauss Elimination\n",
    "for i in range(n):\n",
    "    if a[i][i] == 0.0:\n",
    "        print('Divide by zero detected!')\n",
    "        break\n",
    "\n",
    "    for j in range(i+1, n):\n",
    "        ratio = a[j][i]/a[i][i]\n",
    "\n",
    "        for k in range(n+1):\n",
    "            a[j][k] = a[j][k] - ratio * a[i][k]\n",
    "\n",
    "# Back Substitution\n",
    "root[n-1] = a[n-1][n]/a[n-1][n-1]\n",
    "\n",
    "for i in range(n-2,-1,-1):\n",
    "    root[i] = a[i][n]\n",
    "\n",
    "    for j in range(i+1,n):\n",
    "        root[i] = root[i] - a[i][j]*root[j]\n",
    "\n",
    "    root[i] = root[i]/a[i][i]"
   ]
  },
  {
   "cell_type": "code",
   "execution_count": 53,
   "metadata": {},
   "outputs": [
    {
     "name": "stdout",
     "output_type": "stream",
     "text": [
      "a' = 1.46753 \n",
      "b' = 0.16069\n",
      "\n",
      "a = 4.33849 \n",
      "b = 0.16069\n",
      "\n",
      "y=ax^b\n",
      "y = 4.33849 x^0.16069\n"
     ]
    }
   ],
   "source": [
    "#results\n",
    "print('a\\' = %0.5f \\nb\\' = %0.5f' %(root[1],root[0]))\n",
    "print('\\na = %0.5f \\nb = %0.5f' %(math.exp(root[1]),root[0]))\n",
    "print('\\ny=ax^b')\n",
    "print('y = %0.5f x^%0.5f' %(math.exp(root[1]),root[0]))\n"
   ]
  },
  {
   "cell_type": "code",
   "execution_count": 42,
   "metadata": {},
   "outputs": [
    {
     "data": {
      "image/png": "[encoded data removed]",
      "text/plain": [
       "<Figure size 432x288 with 1 Axes>"
      ]
     },
     "metadata": {
      "needs_background": "light"
     },
     "output_type": "display_data"
    },
    {
     "data": {
      "text/plain": [
       "<Figure size 20000x10000 with 0 Axes>"
      ]
     },
     "metadata": {},
     "output_type": "display_data"
    }
   ],
   "source": [
    "from matplotlib import pyplot as plt\n",
    "\n",
    "x = np.linspace(x0[0],x0[x0.shape[0]-1],x0.shape[0])\n",
    "#y = root[0]*x + root[1]\n",
    "y = math.exp(root[1])*x**root[0]\n",
    "\n",
    "plt.plot(x, y,'r*--',alpha = 0.75,label = 'fit plot')\n",
    "plt.plot(x0,y0,'b-',alpha = 0.6, label = 'raw data')\n",
    "\n",
    "plt.title('Quadratic curve fitting')\n",
    "plt.xlabel('x axis') \n",
    "plt.ylabel('y axis') \n",
    "plt.grid(alpha =.6, linestyle ='--')\n",
    "plt.legend()\n",
    "plt.figure(figsize=(20,10),dpi=1000)\n",
    "\n",
    "plt.show()"
   ]
  }
 ],
 "metadata": {
  "kernelspec": {
   "display_name": "Python 3",
   "language": "python",
   "name": "python3"
  },
  "language_info": {
   "codemirror_mode": {
    "name": "ipython",
    "version": 3
   },
   "file_extension": ".py",
   "mimetype": "text/x-python",
   "name": "python",
   "nbconvert_exporter": "python",
   "pygments_lexer": "ipython3",
   "version": "3.8.5"
  }
 },
 "nbformat": 4,
 "nbformat_minor": 4
}
