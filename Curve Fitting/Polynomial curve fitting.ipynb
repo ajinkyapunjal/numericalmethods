{
 "cells": [
  {
   "cell_type": "code",
   "execution_count": 12,
   "metadata": {},
   "outputs": [],
   "source": [
    "#Importing libraries\n",
    "import numpy as np"
   ]
  },
  {
   "cell_type": "code",
   "execution_count": 13,
   "metadata": {},
   "outputs": [],
   "source": [
    "#reading data file\n",
    "filename = 'abc.txt'\n",
    "data = np.loadtxt(filename,delimiter='\\t')"
   ]
  },
  {
   "cell_type": "code",
   "execution_count": 14,
   "metadata": {},
   "outputs": [],
   "source": [
    "#Separating X and Y columns\n",
    "x0 = data[0:,0]\n",
    "y0 = data[0:,1]"
   ]
  },
  {
   "cell_type": "code",
   "execution_count": 15,
   "metadata": {},
   "outputs": [
    {
     "name": "stdout",
     "output_type": "stream",
     "text": [
      "x\ty\txy\tx^2\tx^2*y\tx^3\tx^4\n",
      "1.0 \t 0.5 \t 0.5 \t 1.0 \t 0.5 \t 1.0 \t 1.0\n",
      "2.0 \t 2.5 \t 5.0 \t 4.0 \t 10.0 \t 8.0 \t 16.0\n",
      "3.0 \t 2.0 \t 6.0 \t 9.0 \t 18.0 \t 27.0 \t 81.0\n",
      "4.0 \t 4.0 \t 16.0 \t 16.0 \t 64.0 \t 64.0 \t 256.0\n",
      "5.0 \t 3.5 \t 17.5 \t 25.0 \t 87.5 \t 125.0 \t 625.0\n",
      "6.0 \t 6.0 \t 36.0 \t 36.0 \t 216.0 \t 216.0 \t 1296.0\n",
      "7.0 \t 5.5 \t 38.5 \t 49.0 \t 269.5 \t 343.0 \t 2401.0\n",
      "\n",
      " 28.0 \t 24.0 \t 119.5 \t 140.0 \t 665.5 \t 784.0 \t 4676.0 \t 7\n"
     ]
    }
   ],
   "source": [
    "#Table\n",
    "print('x\\ty\\txy\\tx^2\\tx^2*y\\tx^3\\tx^4')\n",
    "\n",
    "#College table\n",
    "for i in range (0,x0.shape[0]):\n",
    "    print(x0[i],'\\t',y0[i],'\\t',x0[i]*y0[i],'\\t',x0[i]**2,'\\t',x0[i]**2*y0[i],'\\t',x0[i]**3,'\\t',x0[i]**4)\n",
    "\n",
    "#Actual calculations\n",
    "x = np.sum(x0)\n",
    "y = np.sum(y0)\n",
    "xy = np.sum(x0*y0)\n",
    "xr2 = np.sum(x0**2)\n",
    "xr2y = np.sum(x0**2*y0)\n",
    "xr3 = np.sum(x0**3)\n",
    "xr4 = np.sum(x0**4)\n",
    "n = x0.shape[0]\n",
    "\n",
    "print('\\n',x,'\\t',y,'\\t',xy,'\\t',xr2,'\\t',xr2y,'\\t',xr3,'\\t',xr4,'\\t',n)"
   ]
  },
  {
   "cell_type": "code",
   "execution_count": null,
   "metadata": {},
   "outputs": [],
   "source": []
  }
 ],
 "metadata": {
  "kernelspec": {
   "display_name": "Python 3",
   "language": "python",
   "name": "python3"
  },
  "language_info": {
   "codemirror_mode": {
    "name": "ipython",
    "version": 3
   },
   "file_extension": ".py",
   "mimetype": "text/x-python",
   "name": "python",
   "nbconvert_exporter": "python",
   "pygments_lexer": "ipython3",
   "version": "3.8.5"
  }
 },
 "nbformat": 4,
 "nbformat_minor": 4
}
