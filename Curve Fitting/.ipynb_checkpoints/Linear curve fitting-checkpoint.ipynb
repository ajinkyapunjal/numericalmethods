{
 "cells": [
  {
   "cell_type": "code",
   "execution_count": 2,
   "metadata": {},
   "outputs": [],
   "source": [
    "#Importing libraries\n",
    "import numpy as np"
   ]
  },
  {
   "cell_type": "code",
   "execution_count": 9,
   "metadata": {},
   "outputs": [],
   "source": [
    "#reading data file\n",
    "filename = 'abc.txt'\n",
    "data = np.loadtxt(filename,delimiter='\\t')"
   ]
  },
  {
   "cell_type": "code",
   "execution_count": 10,
   "metadata": {},
   "outputs": [],
   "source": [
    "#Separating X and Y columns\n",
    "x0 = data[0:,0]\n",
    "y0 = data[0:,1]"
   ]
  },
  {
   "cell_type": "code",
   "execution_count": 11,
   "metadata": {},
   "outputs": [
    {
     "name": "stdout",
     "output_type": "stream",
     "text": [
      "x\ty\txy\tx^2\n",
      "-3.0 \t 12.0 \t -36.0 \t 9.0\n",
      "-2.0 \t 4.0 \t -8.0 \t 4.0\n",
      "-1.0 \t 1.0 \t -1.0 \t 1.0\n",
      "0.0 \t 6.0 \t 0.0 \t 0.0\n",
      "1.0 \t 7.0 \t 7.0 \t 1.0\n",
      "2.0 \t 15.0 \t 30.0 \t 4.0\n",
      "3.0 \t 1.0 \t 3.0 \t 9.0\n",
      "\n",
      " 0.0 \t 46.0 \t -5.0 \t 28.0 \t 7 \n",
      "\n"
     ]
    }
   ],
   "source": [
    "#College requirements\n",
    "print('x\\ty\\txy\\tx^2')\n",
    "\n",
    "#Table required for college\n",
    "for i in range (0,x0.shape[0]):\n",
    "    print(x0[i],'\\t',y0[i],'\\t',x0[i]*y0[i],'\\t',x0[i]**2)\n",
    "\n",
    "#Actual calculations\n",
    "x = np.sum(x0)\n",
    "y = np.sum(y0)\n",
    "xy = np.sum(x0*y0)\n",
    "xr2 = np.sum(x0**2)\n",
    "no = x0.shape[0]\n",
    "\n",
    "print('\\n',x,'\\t',y,'\\t',xy,'\\t',xr2,'\\t',no,'\\n')"
   ]
  },
  {
   "cell_type": "code",
   "execution_count": 6,
   "metadata": {},
   "outputs": [
    {
     "name": "stdout",
     "output_type": "stream",
     "text": [
      "Divide by zero detected!\n"
     ]
    },
    {
     "name": "stderr",
     "output_type": "stream",
     "text": [
      "<ipython-input-6-f3bfa877a878>:32: RuntimeWarning: divide by zero encountered in double_scalars\n",
      "  root[n-1] = a[n-1][n]/a[n-1][n-1]\n"
     ]
    }
   ],
   "source": [
    "#Guass elimination\n",
    "n = 2\n",
    "\n",
    "# Making numpy array of n x n+1 size and initializing \n",
    "# to zero for storing augmented matrix\n",
    "a = np.zeros((n,n+1))\n",
    "\n",
    "# Making numpy array of n size and initializing \n",
    "# to zero for storing solution vector\n",
    "root = np.zeros(n)\n",
    "\n",
    "a[0][0]=x\n",
    "a[0][1]=no\n",
    "a[0][2]=y\n",
    "a[1][0]=xr2\n",
    "a[1][1]=x\n",
    "a[1][2]=xy\n",
    "\n",
    "# Applying Gauss Elimination\n",
    "for i in range(n):\n",
    "    if a[i][i] == 0.0:\n",
    "        print('Divide by zero detected!')\n",
    "        break\n",
    "\n",
    "    for j in range(i+1, n):\n",
    "        ratio = a[j][i]/a[i][i]\n",
    "\n",
    "        for k in range(n+1):\n",
    "            a[j][k] = a[j][k] - ratio * a[i][k]\n",
    "\n",
    "# Back Substitution\n",
    "root[n-1] = a[n-1][n]/a[n-1][n-1]\n",
    "\n",
    "for i in range(n-2,-1,-1):\n",
    "    root[i] = a[i][n]\n",
    "\n",
    "    for j in range(i+1,n):\n",
    "        root[i] = root[i] - a[i][j]*root[j]\n",
    "\n",
    "    root[i] = root[i]/a[i][i]"
   ]
  },
  {
   "cell_type": "code",
   "execution_count": 7,
   "metadata": {},
   "outputs": [
    {
     "name": "stdout",
     "output_type": "stream",
     "text": [
      "y = -inf * x + inf\n"
     ]
    }
   ],
   "source": [
    "#results\n",
    "print('y = %0.5f * x + %0.5f' %(root[0],root[1]))"
   ]
  },
  {
   "cell_type": "code",
   "execution_count": 8,
   "metadata": {},
   "outputs": [
    {
     "name": "stderr",
     "output_type": "stream",
     "text": [
      "<ipython-input-8-b682d4caa836>:4: RuntimeWarning: invalid value encountered in multiply\n",
      "  y = root[0]*x + root[1]\n",
      "<ipython-input-8-b682d4caa836>:4: RuntimeWarning: invalid value encountered in add\n",
      "  y = root[0]*x + root[1]\n"
     ]
    },
    {
     "data": {
      "image/png": "[encoded data removed]",
      "text/plain": [
       "<Figure size 432x288 with 1 Axes>"
      ]
     },
     "metadata": {
      "needs_background": "light"
     },
     "output_type": "display_data"
    },
    {
     "data": {
      "text/plain": [
       "<Figure size 20000x10000 with 0 Axes>"
      ]
     },
     "metadata": {},
     "output_type": "display_data"
    }
   ],
   "source": [
    "from matplotlib import pyplot as plt\n",
    "\n",
    "x = np.linspace(x0[0],x0[x0.shape[0]-1],x0.shape[0])\n",
    "y = root[0]*x + root[1]\n",
    "\n",
    "plt.plot(x, y,'r*--',alpha = 0.75,label = 'fit plot')\n",
    "plt.plot(x0,y0,'b-',alpha = 0.6, label = 'raw data')\n",
    "\n",
    "plt.title('Quadratic curve fitting')\n",
    "plt.xlabel('x axis') \n",
    "plt.ylabel('y axis') \n",
    "plt.grid(alpha =.6, linestyle ='--')\n",
    "plt.legend()\n",
    "plt.figure(figsize=(20,10),dpi=1000)\n",
    "\n",
    "plt.show()"
   ]
  },
  {
   "cell_type": "code",
   "execution_count": null,
   "metadata": {},
   "outputs": [],
   "source": []
  }
 ],
 "metadata": {
  "kernelspec": {
   "display_name": "Python 3",
   "language": "python",
   "name": "python3"
  },
  "language_info": {
   "codemirror_mode": {
    "name": "ipython",
    "version": 3
   },
   "file_extension": ".py",
   "mimetype": "text/x-python",
   "name": "python",
   "nbconvert_exporter": "python",
   "pygments_lexer": "ipython3",
   "version": "3.8.5"
  }
 },
 "nbformat": 4,
 "nbformat_minor": 4
}
