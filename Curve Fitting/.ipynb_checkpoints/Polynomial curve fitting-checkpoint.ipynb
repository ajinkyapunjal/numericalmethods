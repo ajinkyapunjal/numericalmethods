{
 "cells": [
  {
   "cell_type": "code",
   "execution_count": 2,
   "metadata": {},
   "outputs": [],
   "source": [
    "#Importing libraries\n",
    "import numpy as np"
   ]
  },
  {
   "cell_type": "code",
   "execution_count": 3,
   "metadata": {},
   "outputs": [],
   "source": [
    "#reading data file\n",
    "filename = 'abc.txt'\n",
    "data = np.loadtxt(filename,delimiter='\\t')"
   ]
  },
  {
   "cell_type": "code",
   "execution_count": 4,
   "metadata": {},
   "outputs": [],
   "source": [
    "#Separating X and Y columns\n",
    "x0 = data[0:,0]\n",
    "y0 = data[0:,1]"
   ]
  },
  {
   "cell_type": "code",
   "execution_count": 10,
   "metadata": {},
   "outputs": [
    {
     "name": "stdout",
     "output_type": "stream",
     "text": [
      "x\ty\txy\tx^2\tx^2*y\tx^3\tx^4\n",
      "-3.0 \t 12.0 \t -36.0 \t 9.0 \t 108.0 \t -27.0 \t 81.0\n",
      "-2.0 \t 4.0 \t -8.0 \t 4.0 \t 16.0 \t -8.0 \t 16.0\n",
      "-1.0 \t 1.0 \t -1.0 \t 1.0 \t 1.0 \t -1.0 \t 1.0\n",
      "0.0 \t 2.0 \t 0.0 \t 0.0 \t 0.0 \t 0.0 \t 0.0\n",
      "1.0 \t 7.0 \t 7.0 \t 1.0 \t 7.0 \t 1.0 \t 1.0\n",
      "2.0 \t 15.0 \t 30.0 \t 4.0 \t 60.0 \t 8.0 \t 16.0\n",
      "3.0 \t 30.0 \t 90.0 \t 9.0 \t 270.0 \t 27.0 \t 81.0\n",
      "\n",
      " 0.0 \t 71.0 \t 82.0 \t 28.0 \t 462.0 \t 0.0 \t 196.0 \t 7\n"
     ]
    }
   ],
   "source": [
    "#Table\n",
    "print('x\\ty\\txy\\tx^2\\tx^2*y\\tx^3\\tx^4')\n",
    "\n",
    "#College table\n",
    "for i in range (0,x0.shape[0]):\n",
    "    print(x0[i],'\\t',y0[i],'\\t',x0[i]*y0[i],'\\t',x0[i]**2,'\\t',x0[i]**2*y0[i],'\\t',x0[i]**3,'\\t',x0[i]**4)\n",
    "\n",
    "#Actual calculations\n",
    "x = np.sum(x0)\n",
    "y = np.sum(y0)\n",
    "xy = np.sum(x0*y0)\n",
    "xr2 = np.sum(x0**2)\n",
    "xr2y = np.sum(x0**2*y0)\n",
    "xr3 = np.sum(x0**3)\n",
    "xr4 = np.sum(x0**4)\n",
    "n0 = x0.shape[0]\n",
    "\n",
    "print('\\n',x,'\\t',y,'\\t',xy,'\\t',xr2,'\\t',xr2y,'\\t',xr3,'\\t',xr4,'\\t',n0)"
   ]
  },
  {
   "cell_type": "code",
   "execution_count": 13,
   "metadata": {},
   "outputs": [
    {
     "name": "stdout",
     "output_type": "stream",
     "text": [
      "[[ 28.   0.   7.  71.]\n",
      " [  0.  28.   0.  82.]\n",
      " [196.   0.  28. 462.]]\n"
     ]
    }
   ],
   "source": [
    "#Guass elimination\n",
    "n = 3\n",
    "\n",
    "# Making numpy array of n x n+1 size and initializing \n",
    "# to zero for storing augmented matrix\n",
    "a = np.zeros((n,n+1))\n",
    "\n",
    "# Making numpy array of n size and initializing \n",
    "# to zero for storing solution vector\n",
    "root = np.zeros(n)\n",
    "\n",
    "a[0][0]=xr2\n",
    "a[0][1]=x\n",
    "a[0][2]=n0\n",
    "a[0][3]=y\n",
    "a[1][0]=xr3\n",
    "a[1][1]=xr2\n",
    "a[1][2]=x\n",
    "a[1][3]=xy\n",
    "a[2][0]=xr4\n",
    "a[2][1]=xr3\n",
    "a[2][2]=xr2\n",
    "a[2][3]=xr2y\n",
    "\n",
    "print(a)\n",
    "\n",
    "# Applying Gauss Elimination\n",
    "for i in range(n):\n",
    "    if a[i][i] == 0.0:\n",
    "        print('Divide by zero detected!')\n",
    "        break\n",
    "\n",
    "    for j in range(i+1, n):\n",
    "        ratio = a[j][i]/a[i][i]\n",
    "\n",
    "        for k in range(n+1):\n",
    "            a[j][k] = a[j][k] - ratio * a[i][k]\n",
    "\n",
    "# Back Substitution\n",
    "root[n-1] = a[n-1][n]/a[n-1][n-1]\n",
    "\n",
    "for i in range(n-2,-1,-1):\n",
    "    root[i] = a[i][n]\n",
    "\n",
    "    for j in range(i+1,n):\n",
    "        root[i] = root[i] - a[i][j]*root[j]\n",
    "\n",
    "    root[i] = root[i]/a[i][i]"
   ]
  },
  {
   "cell_type": "code",
   "execution_count": 14,
   "metadata": {},
   "outputs": [
    {
     "name": "stdout",
     "output_type": "stream",
     "text": [
      "y = (2.11905) * x^2 +  (2.92857) * x + (1.66667)\n"
     ]
    }
   ],
   "source": [
    "#results\n",
    "print('y = (%0.5f) * x^2 +  (%0.5f) * x + (%0.5f)' %(root[0],root[1],root[2]))"
   ]
  },
  {
   "cell_type": "code",
   "execution_count": null,
   "metadata": {},
   "outputs": [],
   "source": []
  }
 ],
 "metadata": {
  "kernelspec": {
   "display_name": "Python 3",
   "language": "python",
   "name": "python3"
  },
  "language_info": {
   "codemirror_mode": {
    "name": "ipython",
    "version": 3
   },
   "file_extension": ".py",
   "mimetype": "text/x-python",
   "name": "python",
   "nbconvert_exporter": "python",
   "pygments_lexer": "ipython3",
   "version": "3.8.5"
  }
 },
 "nbformat": 4,
 "nbformat_minor": 4
}
