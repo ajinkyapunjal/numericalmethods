{
 "cells": [
  {
   "cell_type": "code",
   "execution_count": 16,
   "metadata": {},
   "outputs": [],
   "source": [
    "#Importing libraries\n",
    "import numpy as np\n",
    "import pandas as pd\n",
    "import math"
   ]
  },
  {
   "cell_type": "code",
   "execution_count": 17,
   "metadata": {},
   "outputs": [],
   "source": [
    "#reading data file\n",
    "filename = 'abc.txt'\n",
    "data = np.loadtxt(filename,delimiter='\\t')"
   ]
  },
  {
   "cell_type": "code",
   "execution_count": 18,
   "metadata": {},
   "outputs": [],
   "source": [
    "#Separating X and Y columns\n",
    "x0 = data[0:,0]\n",
    "y0 = data[0:,1]"
   ]
  },
  {
   "cell_type": "code",
   "execution_count": 19,
   "metadata": {},
   "outputs": [
    {
     "name": "stdout",
     "output_type": "stream",
     "text": [
      "x\ty\txy\tx^2\n",
      "      0       1        2       3\n",
      "0  10.0   240.0   2400.0   100.0\n",
      "1  12.0   260.0   3120.0   144.0\n",
      "2  14.0   300.0   4200.0   196.0\n",
      "3  16.0   330.0   5280.0   256.0\n",
      "4  18.0   370.0   6660.0   324.0\n",
      "5  20.0   420.0   8400.0   400.0\n",
      "6  90.0  1920.0  30060.0  1420.0\n"
     ]
    }
   ],
   "source": [
    "#College requirements\n",
    "print('x\\ty\\txy\\tx^2')\n",
    "\n",
    "XY = x0*y0\n",
    "Xr2 = x0**2\n",
    "\n",
    "#Actual calculations\n",
    "x = np.sum(x0)\n",
    "y = np.sum(y0)\n",
    "xy = np.sum(XY)\n",
    "xr2 = np.sum(Xr2)\n",
    "no = x0.shape[0]\n",
    "\n",
    "temp1 = [x,y,xy,xr2]\n",
    "temp1_ = np.array(temp1)\n",
    "\n",
    "#Table required for college\n",
    "temp = [x0,y0,XY,Xr2]\n",
    "df = np.transpose(np.array(temp))\n",
    "df = np.vstack((df,temp1))\n",
    "print(pd.DataFrame(df))\n",
    "\n"
   ]
  },
  {
   "cell_type": "code",
   "execution_count": 20,
   "metadata": {},
   "outputs": [
    {
     "name": "stdout",
     "output_type": "stream",
     "text": [
      "[[9.000e+01 6.000e+00 1.920e+03]\n",
      " [1.420e+03 9.000e+01 3.006e+04]]\n"
     ]
    }
   ],
   "source": [
    "#Guass elimination\n",
    "n = 2\n",
    "\n",
    "# Making numpy array of n x n+1 size and initializing \n",
    "# to zero for storing augmented matrix\n",
    "a = np.zeros((n,n+1))\n",
    "\n",
    "# Making numpy array of n size and initializing \n",
    "# to zero for storing solution vector\n",
    "root = np.zeros(n)\n",
    "\n",
    "a[0][0]=x\n",
    "a[0][1]=no\n",
    "a[0][2]=y\n",
    "a[1][0]=xr2\n",
    "a[1][1]=x\n",
    "a[1][2]=xy\n",
    "\n",
    "print(a)\n",
    "# Applying Gauss Elimination\n",
    "for i in range(n):\n",
    "    if a[i][i] == 0.0:\n",
    "        print('Divide by zero detected!')\n",
    "        break\n",
    "\n",
    "    for j in range(i+1, n):\n",
    "        ratio = a[j][i]/a[i][i]\n",
    "\n",
    "        for k in range(n+1):\n",
    "            a[j][k] = a[j][k] - ratio * a[i][k]\n",
    "\n",
    "# Back Substitution\n",
    "root[n-1] = a[n-1][n]/a[n-1][n-1]\n",
    "\n",
    "for i in range(n-2,-1,-1):\n",
    "    root[i] = a[i][n]\n",
    "\n",
    "    for j in range(i+1,n):\n",
    "        root[i] = root[i] - a[i][j]*root[j]\n",
    "\n",
    "    root[i] = root[i]/a[i][i]"
   ]
  },
  {
   "cell_type": "code",
   "execution_count": 21,
   "metadata": {},
   "outputs": [
    {
     "name": "stdout",
     "output_type": "stream",
     "text": [
      "m = 18.00000 \n",
      "c = 50.00000\n",
      "\n",
      "y=mx+c\n",
      "y = 18.00000 x+50.00000\n"
     ]
    }
   ],
   "source": [
    "#results\n",
    "print('m = %0.5f \\nc = %0.5f' %(root[0],root[1]))\n",
    "\n",
    "print('\\ny=mx+c')\n",
    "print('y = %0.5f x+%0.5f' %(root[0],root[1]))"
   ]
  },
  {
   "cell_type": "code",
   "execution_count": 22,
   "metadata": {},
   "outputs": [
    {
     "data": {
      "image/png": "[encoded data removed]",
      "text/plain": [
       "<Figure size 432x288 with 1 Axes>"
      ]
     },
     "metadata": {
      "needs_background": "light"
     },
     "output_type": "display_data"
    },
    {
     "data": {
      "text/plain": [
       "<Figure size 20000x10000 with 0 Axes>"
      ]
     },
     "metadata": {},
     "output_type": "display_data"
    }
   ],
   "source": [
    "from matplotlib import pyplot as plt\n",
    "\n",
    "x = np.linspace(x0[0],x0[x0.shape[0]-1],x0.shape[0])\n",
    "y = root[0]*x + root[1]\n",
    "\n",
    "plt.plot(x, y,'r*--',alpha = 0.75,label = 'fit plot')\n",
    "plt.plot(x0,y0,'b-',alpha = 0.6, label = 'raw data')\n",
    "\n",
    "plt.title('Quadratic curve fitting')\n",
    "plt.xlabel('x axis') \n",
    "plt.ylabel('y axis') \n",
    "plt.grid(alpha =.6, linestyle ='--')\n",
    "plt.legend()\n",
    "plt.figure(figsize=(20,10),dpi=1000)\n",
    "\n",
    "plt.show()"
   ]
  },
  {
   "cell_type": "code",
   "execution_count": null,
   "metadata": {},
   "outputs": [],
   "source": []
  }
 ],
 "metadata": {
  "kernelspec": {
   "display_name": "Python 3",
   "language": "python",
   "name": "python3"
  },
  "language_info": {
   "codemirror_mode": {
    "name": "ipython",
    "version": 3
   },
   "file_extension": ".py",
   "mimetype": "text/x-python",
   "name": "python",
   "nbconvert_exporter": "python",
   "pygments_lexer": "ipython3",
   "version": "3.7.9"
  }
 },
 "nbformat": 4,
 "nbformat_minor": 4
}
