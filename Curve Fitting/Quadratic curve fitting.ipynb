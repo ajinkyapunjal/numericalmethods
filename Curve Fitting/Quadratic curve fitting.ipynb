{
 "cells": [
  {
   "cell_type": "code",
   "execution_count": 23,
   "metadata": {},
   "outputs": [],
   "source": [
    "#Importing libraries\n",
    "import numpy as np\n",
    "import pandas as pd"
   ]
  },
  {
   "cell_type": "code",
   "execution_count": 24,
   "metadata": {},
   "outputs": [],
   "source": [
    "#reading data file\n",
    "filename = 'abc.txt'\n",
    "data = np.loadtxt(filename,delimiter='\\t')"
   ]
  },
  {
   "cell_type": "code",
   "execution_count": 25,
   "metadata": {},
   "outputs": [],
   "source": [
    "#Separating X and Y columns\n",
    "x0 = data[0:,0]\n",
    "y0 = data[0:,1]"
   ]
  },
  {
   "cell_type": "code",
   "execution_count": 26,
   "metadata": {},
   "outputs": [
    {
     "name": "stdout",
     "output_type": "stream",
     "text": [
      "x\ty\txy\tx^2\tx^2*y\tx^3\tx^4\n",
      "     0       1        2     3        4     5     6\n",
      "0  0.0  2.0000   0.0000   0.0   0.0000   0.0   0.0\n",
      "1  1.0  2.2103   2.2103   1.0   2.2103   1.0   1.0\n",
      "2  2.0  2.4428   4.8856   4.0   9.7712   8.0  16.0\n",
      "3  3.0  2.6997   8.0991   9.0  24.2973  27.0  81.0\n",
      "4  6.0  9.3528  15.1950  14.0  36.2788  36.0  98.0\n"
     ]
    }
   ],
   "source": [
    "#Table\n",
    "print('x\\ty\\txy\\tx^2\\tx^2*y\\tx^3\\tx^4')\n",
    "\n",
    "XY = x0*y0\n",
    "Xr2 = x0**2\n",
    "Xr2Y = Xr2*y0\n",
    "Xr3 = x0**3\n",
    "Xr4 = x0**4\n",
    "\n",
    "#Actual calculations\n",
    "x = np.sum(x0)\n",
    "y = np.sum(y0)\n",
    "xy = np.sum(XY)\n",
    "xr2 = np.sum(Xr2)\n",
    "xr2y = np.sum(Xr2Y)\n",
    "xr3 = np.sum(Xr3)\n",
    "xr4 = np.sum(Xr4)\n",
    "n0 = x0.shape[0]\n",
    "\n",
    "temp1 = [x,y,xy,xr2,xr2y,xr3,xr4]\n",
    "temp1_ = np.array(temp1)\n",
    "\n",
    "#Table required for college\n",
    "temp = [x0,y0,XY,Xr2,Xr2Y,Xr3,Xr4]\n",
    "df = np.transpose(np.array(temp))\n",
    "df = np.vstack((df,temp1))\n",
    "print(pd.DataFrame(df))\n",
    "\n"
   ]
  },
  {
   "cell_type": "code",
   "execution_count": 27,
   "metadata": {},
   "outputs": [],
   "source": [
    "#Guass elimination\n",
    "n = 3\n",
    "\n",
    "# Making numpy array of n x n+1 size and initializing \n",
    "# to zero for storing augmented matrix\n",
    "a = np.zeros((n,n+1))\n",
    "\n",
    "# Making numpy array of n size and initializing \n",
    "# to zero for storing solution vector\n",
    "root = np.zeros(n)\n",
    "\n",
    "a[0][0]=xr2\n",
    "a[0][1]=x\n",
    "a[0][2]=n0\n",
    "a[0][3]=y\n",
    "a[1][0]=xr3\n",
    "a[1][1]=xr2\n",
    "a[1][2]=x\n",
    "a[1][3]=xy\n",
    "a[2][0]=xr4\n",
    "a[2][1]=xr3\n",
    "a[2][2]=xr2\n",
    "a[2][3]=xr2y\n",
    "\n",
    "# Applying Gauss Elimination\n",
    "for i in range(n):\n",
    "    if a[i][i] == 0.0:\n",
    "        print('Divide by zero detected!')\n",
    "        break\n",
    "\n",
    "    for j in range(i+1, n):\n",
    "        ratio = a[j][i]/a[i][i]\n",
    "\n",
    "        for k in range(n+1):\n",
    "            a[j][k] = a[j][k] - ratio * a[i][k]\n",
    "\n",
    "# Back Substitution\n",
    "root[n-1] = a[n-1][n]/a[n-1][n-1]\n",
    "\n",
    "for i in range(n-2,-1,-1):\n",
    "    root[i] = a[i][n]\n",
    "\n",
    "    for j in range(i+1,n):\n",
    "        root[i] = root[i] - a[i][j]*root[j]\n",
    "\n",
    "    root[i] = root[i]/a[i][i]"
   ]
  },
  {
   "cell_type": "code",
   "execution_count": 28,
   "metadata": {},
   "outputs": [
    {
     "name": "stdout",
     "output_type": "stream",
     "text": [
      "a = 0.01165 \n",
      "b = 0.19821 \n",
      "c = 2.00011\n",
      "\n",
      "y = ax^2+bx+c\n",
      "y = (0.01165)x^2 +  (0.19821)x + (2.00011)\n"
     ]
    }
   ],
   "source": [
    "#results\n",
    "print('a = %0.5f \\nb = %0.5f \\nc = %0.5f' %(root[0],root[1],root[2]))\n",
    "print('\\ny = ax^2+bx+c')\n",
    "print('y = (%0.5f)x^2 +  (%0.5f)x + (%0.5f)' %(root[0],root[1],root[2]))"
   ]
  },
  {
   "cell_type": "code",
   "execution_count": 29,
   "metadata": {},
   "outputs": [
    {
     "data": {
      "image/png": "[encoded data removed]",
      "text/plain": [
       "<Figure size 432x288 with 1 Axes>"
      ]
     },
     "metadata": {
      "needs_background": "light"
     },
     "output_type": "display_data"
    },
    {
     "data": {
      "text/plain": [
       "<Figure size 20000x10000 with 0 Axes>"
      ]
     },
     "metadata": {},
     "output_type": "display_data"
    }
   ],
   "source": [
    "from matplotlib import pyplot as plt\n",
    "\n",
    "x = np.linspace(x0[0],x0[x0.shape[0]-1],x0.shape[0])\n",
    "y = root[0]*x**2 + root[1]*x + root[2]\n",
    "\n",
    "plt.plot(x, y,'r*--',alpha = 0.75,label = 'fit plot')\n",
    "plt.plot(x0,y0,'b-',alpha = 0.6, label = 'raw data')\n",
    "\n",
    "plt.title('Quadratic curve fitting')\n",
    "plt.xlabel('x axis') \n",
    "plt.ylabel('y axis') \n",
    "plt.grid(alpha =.6, linestyle ='--')\n",
    "plt.legend()\n",
    "plt.figure(figsize=(20,10),dpi=1000)\n",
    "\n",
    "plt.show()"
   ]
  }
 ],
 "metadata": {
  "kernelspec": {
   "display_name": "Python 3",
   "language": "python",
   "name": "python3"
  },
  "language_info": {
   "codemirror_mode": {
    "name": "ipython",
    "version": 3
   },
   "file_extension": ".py",
   "mimetype": "text/x-python",
   "name": "python",
   "nbconvert_exporter": "python",
   "pygments_lexer": "ipython3",
   "version": "3.7.9"
  }
 },
 "nbformat": 4,
 "nbformat_minor": 4
}
