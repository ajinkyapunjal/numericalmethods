{
 "cells": [
  {
   "cell_type": "code",
   "execution_count": 112,
   "metadata": {},
   "outputs": [],
   "source": [
    "#Importing libraries\n",
    "import numpy as np\n",
    "import pandas as pd\n",
    "import math"
   ]
  },
  {
   "cell_type": "code",
   "execution_count": 113,
   "metadata": {},
   "outputs": [],
   "source": [
    "#reading data file\n",
    "filename = 'abc.txt'\n",
    "data = np.loadtxt(filename,delimiter='\\t')"
   ]
  },
  {
   "cell_type": "code",
   "execution_count": 114,
   "metadata": {},
   "outputs": [],
   "source": [
    "#Separating X and Y columns\n",
    "x0 = data[0:,0]\n",
    "y0 = data[0:,1]"
   ]
  },
  {
   "cell_type": "code",
   "execution_count": 119,
   "metadata": {},
   "outputs": [
    {
     "name": "stdout",
     "output_type": "stream",
     "text": [
      "x\ty\tY=log(y)\tXY\tX^2\n",
      "     0       1         2         3     4\n",
      "0  0.0  2.0000  0.693147  0.000000   0.0\n",
      "1  1.0  2.2103  0.793128  0.793128   1.0\n",
      "2  2.0  2.4428  0.893145  1.786290   4.0\n",
      "3  3.0  2.6997  0.993141  2.979422   9.0\n",
      "4  6.0  9.3528  3.372561  5.558840  14.0\n"
     ]
    },
    {
     "name": "stderr",
     "output_type": "stream",
     "text": [
      "<ipython-input-119-2e1cbbad246e>:4: RuntimeWarning: divide by zero encountered in log\n",
      "  ln_x = np.log(x0)\n"
     ]
    }
   ],
   "source": [
    "#College requirements\n",
    "print('x\\ty\\tY=log(y)\\tXY\\tX^2')\n",
    "\n",
    "ln_x = np.log(x0)\n",
    "ln_y = np.log(y0)\n",
    "XY = x*ln_y\n",
    "Xr2 = x**2\n",
    "\n",
    "#Actual calculations\n",
    "x = np.sum(x0)\n",
    "y = np.sum(y0)\n",
    "ly = np.sum(ln_y)\n",
    "xy = np.sum(XY)\n",
    "xr2 = np.sum(Xr2)\n",
    "no = x0.shape[0]\n",
    "\n",
    "temp1 = [x,y,ly,xy,xr2]\n",
    "temp1_ = np.array(temp1)\n",
    "\n",
    "#Table required for college\n",
    "temp = [x0,y0,ln_y,XY,Xr2]\n",
    "df = np.transpose(np.array(temp))\n",
    "df = np.vstack((df,temp1))\n",
    "print(pd.DataFrame(df))\n",
    "#print('\\nLast line is sum')\n",
    "\n"
   ]
  },
  {
   "cell_type": "code",
   "execution_count": 116,
   "metadata": {},
   "outputs": [],
   "source": [
    "#Guass elimination\n",
    "n = 2\n",
    "\n",
    "# Making numpy array of n x n+1 size and initializing \n",
    "# to zero for storing augmented matrix\n",
    "a = np.zeros((n,n+1))\n",
    "\n",
    "# Making numpy array of n size and initializing \n",
    "# to zero for storing solution vector\n",
    "root = np.zeros(n)\n",
    "\n",
    "a[0][0]=x\n",
    "a[0][1]=no\n",
    "a[0][2]=ly\n",
    "a[1][0]=xr2\n",
    "a[1][1]=x\n",
    "a[1][2]=xy\n",
    "\n",
    "#print(a)\n",
    "\n",
    "# Applying Gauss Elimination\n",
    "for i in range(n):\n",
    "    if a[i][i] == 0.0:\n",
    "        print('Divide by zero detected!')\n",
    "        break\n",
    "\n",
    "    for j in range(i+1, n):\n",
    "        ratio = a[j][i]/a[i][i]\n",
    "\n",
    "        for k in range(n+1):\n",
    "            a[j][k] = a[j][k] - ratio * a[i][k]\n",
    "\n",
    "# Back Substitution\n",
    "root[n-1] = a[n-1][n]/a[n-1][n-1]\n",
    "\n",
    "for i in range(n-2,-1,-1):\n",
    "    root[i] = a[i][n]\n",
    "\n",
    "    for j in range(i+1,n):\n",
    "        root[i] = root[i] - a[i][j]*root[j]\n",
    "\n",
    "    root[i] = root[i]/a[i][i]"
   ]
  },
  {
   "cell_type": "code",
   "execution_count": null,
   "metadata": {},
   "outputs": [],
   "source": []
  },
  {
   "cell_type": "code",
   "execution_count": 117,
   "metadata": {},
   "outputs": [
    {
     "name": "stdout",
     "output_type": "stream",
     "text": [
      "a' = 0.00000 \n",
      "b' = 0.56209\n",
      "\n",
      "a = 1.00000 \n",
      "b = 0.56209\n",
      "\n",
      "y = Aexp(bx)\n",
      "y = 1.00000 exp(0.56209x)\n"
     ]
    }
   ],
   "source": [
    "#results\n",
    "print('a\\' = %0.5f \\nb\\' = %0.5f' %(root[1],root[0]))\n",
    "print('\\na = %0.5f \\nb = %0.5f' %(math.exp(root[1]),root[0]))\n",
    "print('\\ny = Aexp(bx)')\n",
    "print('y = %0.5f exp(%0.5fx)' %(math.exp(root[1]),root[0]))\n",
    "\n",
    "#print(root)"
   ]
  },
  {
   "cell_type": "code",
   "execution_count": 118,
   "metadata": {},
   "outputs": [
    {
     "data": {
      "image/png": "[encoded data removed]",
      "text/plain": [
       "<Figure size 432x288 with 1 Axes>"
      ]
     },
     "metadata": {
      "needs_background": "light"
     },
     "output_type": "display_data"
    },
    {
     "data": {
      "text/plain": [
       "<Figure size 20000x10000 with 0 Axes>"
      ]
     },
     "metadata": {},
     "output_type": "display_data"
    }
   ],
   "source": [
    "from matplotlib import pyplot as plt\n",
    "\n",
    "x = np.linspace(x0[0],x0[x0.shape[0]-1],x0.shape[0])\n",
    "#y = root[0]*x + root[1]\n",
    "y = math.exp(root[1])*2.7182818284590452353602874713527**(root[0]*x)\n",
    "\n",
    "plt.plot(x, y,'r*--',alpha = 0.75,label = 'fit plot')\n",
    "plt.plot(x0,y0,'b-',alpha = 0.6, label = 'raw data')\n",
    "\n",
    "plt.title('Quadratic curve fitting')\n",
    "plt.xlabel('x axis') \n",
    "plt.ylabel('y axis') \n",
    "plt.grid(alpha =.6, linestyle ='--')\n",
    "plt.legend()\n",
    "plt.figure(figsize=(20,10),dpi=1000)\n",
    "\n",
    "plt.show()"
   ]
  },
  {
   "cell_type": "code",
   "execution_count": null,
   "metadata": {},
   "outputs": [],
   "source": []
  },
  {
   "cell_type": "code",
   "execution_count": null,
   "metadata": {},
   "outputs": [],
   "source": []
  }
 ],
 "metadata": {
  "kernelspec": {
   "display_name": "Python 3",
   "language": "python",
   "name": "python3"
  },
  "language_info": {
   "codemirror_mode": {
    "name": "ipython",
    "version": 3
   },
   "file_extension": ".py",
   "mimetype": "text/x-python",
   "name": "python",
   "nbconvert_exporter": "python",
   "pygments_lexer": "ipython3",
   "version": "3.8.5"
  }
 },
 "nbformat": 4,
 "nbformat_minor": 4
}
